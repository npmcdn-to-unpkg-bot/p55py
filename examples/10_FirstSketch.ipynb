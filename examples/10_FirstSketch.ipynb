{
 "cells": [
  {
   "cell_type": "markdown",
   "metadata": {
    "collapsed": false
   },
   "source": [
    "### The smallest self-contained Hello World program.\n",
    "\n",
    "Hit play and enjoy 100 frames of interaction"
   ]
  },
  {
   "cell_type": "code",
   "execution_count": 1,
   "metadata": {
    "collapsed": false
   },
   "outputs": [
    {
     "data": {
      "application/vnd.jupyter.widget": "55d5b69877444b02ad0379d44d259b2f",
      "image/png": "[encoded data removed]"
     },
     "metadata": {},
     "output_type": "display_data"
    }
   ],
   "source": [
    "from p55py import P55Wrapper\n",
    "\n",
    "def draw(self):\n",
    "    if self.mousePressed:\n",
    "        self.fill(0)\n",
    "    else:\n",
    "        self.fill(255)\n",
    "    self.ellipse(self.mouseX, self.mouseY, 80, 80)\n",
    "\n",
    "wrapper = P55Wrapper(drawfn=draw)\n",
    "wrapper.widget"
   ]
  },
  {
   "cell_type": "code",
   "execution_count": null,
   "metadata": {
    "collapsed": true
   },
   "outputs": [],
   "source": []
  }
 ],
 "metadata": {
  "kernelspec": {
   "display_name": "Python 3",
   "language": "python",
   "name": "python3"
  },
  "language_info": {
   "codemirror_mode": {
    "name": "ipython",
    "version": 3
   },
   "file_extension": ".py",
   "mimetype": "text/x-python",
   "name": "python",
   "nbconvert_exporter": "python",
   "pygments_lexer": "ipython3",
   "version": "3.5.2"
  },
  "widgets": {
   "state": {
    "55d5b69877444b02ad0379d44d259b2f": {
     "views": [
      {
       "cell_index": 1
      }
     ]
    }
   },
   "version": "2.0.0-dev"
  }
 },
 "nbformat": 4,
 "nbformat_minor": 0
}
