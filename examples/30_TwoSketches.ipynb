{
 "cells": [
  {
   "cell_type": "markdown",
   "metadata": {
    "collapsed": true
   },
   "source": [
    "### Not a problem having multiple sketches"
   ]
  },
  {
   "cell_type": "code",
   "execution_count": 1,
   "metadata": {
    "collapsed": true
   },
   "outputs": [],
   "source": [
    "from p55py import P55Wrapper\n",
    "from IPython.display import display"
   ]
  },
  {
   "cell_type": "code",
   "execution_count": 2,
   "metadata": {
    "collapsed": true
   },
   "outputs": [],
   "source": [
    "# Two flavors of draw\n",
    "\n",
    "def draw_circles(self):\n",
    "    if self.mousePressed:\n",
    "        self.fill(0)\n",
    "    else:\n",
    "        self.fill(255)\n",
    "    self.ellipse(self.mouseX, self.mouseY, 80, 80)\n",
    "\n",
    "def draw_lines(self):\n",
    "    if not self.mousePressed:\n",
    "        color = (255,0,0,255)\n",
    "    else:\n",
    "        color = (0,0,255,255)\n",
    "    self.cur_fill = color\n",
    "    self.line(0, 0, self.mouseX, self.mouseY)"
   ]
  },
  {
   "cell_type": "code",
   "execution_count": 3,
   "metadata": {
    "collapsed": true
   },
   "outputs": [],
   "source": [
    "# Two wrappers\n",
    "wrapper_circles = P55Wrapper(drawfn=draw_circles)\n",
    "wrapper_lines = P55Wrapper(drawfn=draw_lines)\n",
    "\n",
    "# let each play for 1000 frames\n",
    "wrapper_circles.play.max = 1000\n",
    "wrapper_lines.play.max = 1000"
   ]
  },
  {
   "cell_type": "code",
   "execution_count": 4,
   "metadata": {
    "collapsed": false
   },
   "outputs": [
    {
     "data": {
      "application/vnd.jupyter.widget": "f8b3069414fd4e26aafc5cc8911623e2"
     },
     "metadata": {},
     "output_type": "display_data"
    },
    {
     "data": {
      "application/vnd.jupyter.widget": "b8ccca00e1724307ad4d9b1bc1c72296"
     },
     "metadata": {},
     "output_type": "display_data"
    }
   ],
   "source": [
    "# Display both\n",
    "\n",
    "display(wrapper_circles.widget)\n",
    "display(wrapper_lines.widget)"
   ]
  },
  {
   "cell_type": "code",
   "execution_count": null,
   "metadata": {
    "collapsed": true
   },
   "outputs": [],
   "source": []
  }
 ],
 "metadata": {
  "kernelspec": {
   "display_name": "Python 3",
   "language": "python",
   "name": "python3"
  },
  "language_info": {
   "codemirror_mode": {
    "name": "ipython",
    "version": 3
   },
   "file_extension": ".py",
   "mimetype": "text/x-python",
   "name": "python",
   "nbconvert_exporter": "python",
   "pygments_lexer": "ipython3",
   "version": "3.5.2"
  },
  "widgets": {
   "state": {
    "2f58f60386054ee7a6efb9a7ed006860": {
     "views": [
      {
       "cell_index": 4
      }
     ]
    },
    "b8ccca00e1724307ad4d9b1bc1c72296": {
     "views": [
      {
       "cell_index": 4
      }
     ]
    },
    "f8b3069414fd4e26aafc5cc8911623e2": {
     "views": [
      {
       "cell_index": 4
      }
     ]
    }
   },
   "version": "2.0.0-dev"
  }
 },
 "nbformat": 4,
 "nbformat_minor": 0
}
